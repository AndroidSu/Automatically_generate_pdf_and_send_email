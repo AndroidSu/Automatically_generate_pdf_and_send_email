{
 "cells": [
  {
   "cell_type": "code",
   "execution_count": null,
   "metadata": {},
   "outputs": [],
   "source": [
    "#!/usr/bin/env python3\n",
    "\n",
    "import email.message\n",
    "import mimetypes\n",
    "import os.path\n",
    "import smtplib\n",
    "\n",
    "def generate(sender, recipient, subject, body, attachment_path):\n",
    "    \"\"\"Creates an email with an attachement.\"\"\"\n",
    "    # Basic Email formatting\n",
    "    message = email.message.EmailMessage()\n",
    "    message[\"From\"] = sender\n",
    "    message[\"To\"] = recipient\n",
    "    message[\"Subject\"] = subject\n",
    "    message.set_content(body)\n",
    "\n",
    "  # Process the attachment and add it to the email\n",
    "    attachment_filename = os.path.basename(attachment_path)\n",
    "    mime_type, _ = mimetypes.guess_type(attachment_path)\n",
    "    mime_type, mime_subtype = mime_type.split('/', 1)\n",
    "\n",
    "    with open(attachment_path, 'rb') as ap:\n",
    "        message.add_attachment(ap.read(),\n",
    "                          maintype=mime_type,\n",
    "                          subtype=mime_subtype,\n",
    "                          filename=attachment_filename)\n",
    "\n",
    "    return message\n",
    "\n",
    "def send(message):\n",
    "    \"\"\"Sends the message to the configured SMTP server.\"\"\"\n",
    "    mail_server = smtplib.SMTP('localhost')\n",
    "    mail_server.send_message(message)\n",
    "    mail_server.quit()\n"
   ]
  }
 ],
 "metadata": {
  "kernelspec": {
   "display_name": "Python 3",
   "language": "python",
   "name": "python3"
  },
  "language_info": {
   "codemirror_mode": {
    "name": "ipython",
    "version": 3
   },
   "file_extension": ".py",
   "mimetype": "text/x-python",
   "name": "python",
   "nbconvert_exporter": "python",
   "pygments_lexer": "ipython3",
   "version": "3.7.4"
  }
 },
 "nbformat": 4,
 "nbformat_minor": 2
}
