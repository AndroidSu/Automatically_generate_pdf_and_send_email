{
 "cells": [
  {
   "cell_type": "markdown",
   "metadata": {},
   "source": [
    "## Introduction\n",
    "You work for a company that sells second hand cars. Management wants to get a summary of the amounts of vehicles that have been sold at the end of every month. The company already has a web service which serves sales data at the end of every month but management wants an email to be sent out with an attached PDF so that data is more easily readable.\n",
    "\n",
    "## What you’ll done\n",
    "- Write a script that summarizes and processes sales data into different categories\n",
    "- Generate a PDF using Python\n",
    "- Automatically send a PDF by email"
   ]
  },
  {
   "cell_type": "markdown",
   "metadata": {},
   "source": [
    "You will find `reports.py` and `emails.py` files. These files are used to **generate PDF files and send emails respectively**.\n",
    "\n",
    "Take a look at example.py, which uses these two modules reports and emails to create a report and then send it by email.\n",
    "\n",
    "\n",
    "\n",
    "### Optional challenge\n",
    "As optional challenges, you could try some of the following functionalities:\n",
    "\n",
    "1. Sort the list of cars in the PDF by total sales.\n",
    "\n",
    "2. Create a pie chart for the total sales of each car made.\n",
    "\n",
    "3. Create a bar chart showing total sales for the top 10 best selling vehicles using the ![ReportLab Diagra library](https://www.reportlab.com/software/diagra/). Put the vehicle name on the X-axis and total revenue (remember, price * total sales!) along the Y-axis."
   ]
  },
  {
   "cell_type": "markdown",
   "metadata": {},
   "source": [
    "The below script `cars.py` already contains part of the work, but learners need to complete the task by writing the remaining pieces. The script already calculates the car model with the most revenue (price * total_sales) in the process_data method. Learners need to add the following:\n",
    "\n",
    "1. Calculate the car model which had the most sales by completing the process_data method, and then appending a formatted string to the summary list in the below format:\n",
    "\n",
    "`\"The {car model} had the most sales: {total sales}\"`\n",
    "\n",
    "2. Calculate the most popular car_year across all car make/models (in other words, find the total count of cars with the car_year equal to 2005, equal to 2006, etc. and then figure out the most popular year) by completing the process_data method, and append a formatted string to the summary list in the below format:\n",
    "\n",
    "`\"The most popular year was {year} with {total sales in that year} sales.\"`\n",
    "\n",
    "## The challenge\n",
    "Here, you are going to update the script cars.py. You will be using the above JSON data to process information. A part of the script is already done for you, where it calculates the car model with the most revenue (price * total_sales). You should now fulfil the following objectives with the script:\n",
    "\n",
    "- Calculate the car model which had the most sales.\n",
    "\n",
    "> a. Call format_car method for the car model.\n",
    "\n",
    "- Calculate the most popular car_year across all car make/models.\n",
    "> Hint: Find the total count of cars with the car_year equal to 2005, equal to 2006, etc. and then figure out the most popular year.\n",
    "\n",
    "## Generate PDF and send Email\n",
    "Once the data is collected, you will also need to further update the script to generate a PDF report and automatically send it through email.\n",
    "\n",
    "#### To generate a PDF:\n",
    "\n",
    "`Use the reports.generate() function within the main function.`\n",
    "\n",
    "The report should be named as cars.pdf, and placed in the folder /tmp/.\n",
    "\n",
    "The PDF should contain:\n",
    "\n",
    "- A summary paragraph which contains the most sales/most revenue/most popular year values worked out in the previous step.\n",
    "> Note: To add line breaks in the PDF, use: <br/> between the lines.\n",
    "- A table which contains all the information parsed from the JSON file, organised by id_number. The car details should be combined into one column in the form <car_make> <car_model> (<car_year>).\n",
    "\n",
    "To send the PDF through email:\n",
    "\n",
    "Once the PDF is generated, you need to send the email, using the `emails.generate()` and `emails.send()` methods."
   ]
  },
  {
   "cell_type": "code",
   "execution_count": 3,
   "metadata": {},
   "outputs": [
    {
     "ename": "SyntaxError",
     "evalue": "invalid syntax (<ipython-input-3-051091ea3b89>, line 56)",
     "output_type": "error",
     "traceback": [
      "\u001b[0;36m  File \u001b[0;32m\"<ipython-input-3-051091ea3b89>\"\u001b[0;36m, line \u001b[0;32m56\u001b[0m\n\u001b[0;31m    format_car(max_revenue[car\"]), max_revenue[\"revenue\"]),\u001b[0m\n\u001b[0m                                               ^\u001b[0m\n\u001b[0;31mSyntaxError\u001b[0m\u001b[0;31m:\u001b[0m invalid syntax\n"
     ]
    }
   ],
   "source": [
    "#!/usr/bin/env python3\n",
    "\n",
    "# cars.py file\n",
    "\n",
    "import json\n",
    "import locale\n",
    "import sys\n",
    "import reports.py\n",
    "import emails.py\n",
    "\n",
    "def load_data(filename):\n",
    "    \"\"\"Loads the contents of filename as a JSON file.\"\"\"\n",
    "    with open(filename) as json_file:\n",
    "        data = json.load(json_file)\n",
    "    return data\n",
    "\n",
    "\n",
    "def format_car(car):\n",
    "    \"\"\"Given a car dictionary, returns a nicely formatted name.\"\"\"\n",
    "    return \"{} {} ({})\".format(\n",
    "        car[\"car_make\"], car[\"car_model\"], car[\"car_year\"])\n",
    "\n",
    "\n",
    "def process_data(data):\n",
    "    \"\"\"Analyzes the data, looking for maximums.\n",
    "\n",
    "    Returns a list of lines that summarize the information.\n",
    "    \"\"\"\n",
    "    locale.setlocale(locale.LC_ALL, 'en_US.UTF8')\n",
    "    max_revenue = {\"revenue\": 0}\n",
    "    max=0\n",
    "    most_sales_model=\"\"\n",
    "    popular={}\n",
    "    for item in data:\n",
    "        # Calculate the revenue generated by this model (price * total_sales)\n",
    "        # We need to convert the price from \"$1234.56\" to 1234.56 \n",
    "        item_price = locale.atof(item[\"price\"].strip(\"$\")) \n",
    "        item_revenue = item[\"total_sales\"] * item_price\n",
    "        if item_revenue > max_revenue[\"revenue\"]:\n",
    "            item[\"revenue\"] = item_revenue\n",
    "            max_revenue = item\n",
    "         # TODO: also handle max sales\n",
    "        if Item[\"total_sales\"]>max:\n",
    "\t        max=item[\"total_sales\"]\n",
    "\t        most_sales_model=item[\"car\"][\"car_model\"]\n",
    "        # TODO: also handle most popular car_year\n",
    "        if item[\"car\"][\"car_year\"] in popular:\n",
    "\t        popular[item[\"car\"][\"car_year\"]]+=item[\"total_sales\"]\n",
    "        else:\n",
    "\t        popular[item[\"car\"][\"car_year\"]]=item[\"total_sales\"]\n",
    "\n",
    "    most_popular=max(popular, key=popular.get)\n",
    "\n",
    "\n",
    "    summary = [\n",
    "    \"The {} generated the most revenue: ${}\".format(\n",
    "      format_car(max_revenue[\"car\"]), max_revenue[\"revenue\"]),\n",
    "    \"The {} has the most sales: {}\".format(most_sales_model, max),\n",
    "     \"The most popular year was {} with {} sales\".format(most_popular, popular[most_popular]),\n",
    "  ]\n",
    "\n",
    "    return summary\n",
    "\n",
    "\n",
    "def cars_dict_to_table(car_data):\n",
    "    \"\"\"Turns the data in car_data into a list of lists.\"\"\"\n",
    "    table_data = [[\"ID\", \"Car\", \"Price\", \"Total Sales\"]]\n",
    "    for item in car_data:\n",
    "        table_data.append([item[\"id\"], format_car(item[\"car\"]), item[\"price\"], item[\"total_sales\"]])\n",
    "    return table_data\n",
    "\n",
    "\n",
    "def main(argv):\n",
    "    \"\"\"Process the JSON data and generate a full report out of it.\"\"\"\n",
    "    data = load_data(\"car_sales.json\")\n",
    "    summary = process_data(data)\n",
    "    print(summary)\n",
    "  # TODO: turn this into a PDF report\n",
    "    reports.generate(\"/tmp/cars.pdf\",\"most Sales\", summary[0]+\"\\n\"+summary[1]+\"\\n\"+summary[1],data)\n",
    "\n",
    "  # TODO: send the PDF report as an email attachment\n",
    "    emails.generate(\"automation@example.com\",\"student-02-2e2f0d05813c@example.com\", \"Sales summary for last month\",summary[0]+\"\\n\"+summary[1]+\"\\n\"+summary[2],\"/tmp/cars.pdf\")\n",
    "    emails.send()\n",
    "\n",
    "\n",
    "if __name__ == \"__main__\":\n",
    "  main(sys.argv)"
   ]
  },
  {
   "cell_type": "code",
   "execution_count": 12,
   "metadata": {
    "tags": []
   },
   "outputs": [
    {
     "name": "stdout",
     "output_type": "stream",
     "text": [
      "{1997: 5693, 2005: 14568, 2009: 16745, 2006: 14726, 1969: 691, 2000: 10141, 2003: 11488, 1999: 10738, 2004: 15148, 2001: 14282, 1993: 10457, 1991: 5987, 1984: 1283, 1996: 12266, 2007: 21534, 2011: 15704, 1995: 14617, 1989: 3547, 2002: 12004, 2012: 14574, 1990: 4827, 2008: 11792, 1968: 751, 1992: 9382, 1983: 427, 1986: 5656, 1987: 7791, 1998: 8400, 2010: 15025, 1994: 4236, 1988: 3188, 1982: 884, 2013: 3025, 1966: 235, 1970: 309, 1985: 3552, 1967: 1582, 1963: 768} 2007\n"
     ]
    }
   ],
   "source": [
    "popular={}\n",
    "for item in car_sales:\n",
    "    if item[\"car\"][\"car_year\"] in popular:\n",
    "        popular[item[\"car\"][\"car_year\"]]+=item[\"total_sales\"]\n",
    "    else:\n",
    "\t    popular[item[\"car\"][\"car_year\"]]=item[\"total_sales\"]\n",
    "\n",
    "most_popular=max(popular, key=popular.get)\n",
    "print(popular, most_popular)"
   ]
  },
  {
   "cell_type": "code",
   "execution_count": null,
   "metadata": {},
   "outputs": [],
   "source": []
  }
 ],
 "metadata": {
  "kernelspec": {
   "display_name": "Python 3",
   "language": "python",
   "name": "python3"
  },
  "language_info": {
   "codemirror_mode": {
    "name": "ipython",
    "version": 3
   },
   "file_extension": ".py",
   "mimetype": "text/x-python",
   "name": "python",
   "nbconvert_exporter": "python",
   "pygments_lexer": "ipython3",
   "version": "3.7.4"
  }
 },
 "nbformat": 4,
 "nbformat_minor": 2
}
