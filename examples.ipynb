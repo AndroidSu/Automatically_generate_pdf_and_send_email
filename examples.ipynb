{
 "cells": [
  {
   "cell_type": "code",
   "execution_count": null,
   "metadata": {},
   "outputs": [],
   "source": [
    "#!/usr/bin/env python3\n",
    "\n",
    "import emails\n",
    "import os\n",
    "import reports\n",
    "\n",
    "table_data=[\n",
    "  ['Name', 'Amount', 'Value'],\n",
    "  ['elderberries', 10, 0.45],\n",
    "  ['figs', 5, 3],\n",
    "  ['apples', 4, 2.75],\n",
    "  ['durians', 1, 25],\n",
    "  ['bananas', 5, 1.99],\n",
    "  ['cherries', 23, 5.80],\n",
    "  ['grapes', 13, 2.48]]\n",
    "reports.generate(\"/tmp/report.pdf\", \"A Complete Inventory of My Fruit\", \"This is all my fruit.\", table_data)\n",
    "\n",
    "sender = \"sender@example.com\"\n",
    "receiver = \"{}@example.com\".format(os.environ.get('USER'))\n",
    "subject = \"List of Fruits\"\n",
    "body = \"Hi\\n\\nI'm sending an attachment with all my fruit.\"\n",
    "\n",
    "message = emails.generate(sender, receiver, subject, body, \"/tmp/report.pdf\")\n",
    "emails.send(message)"
   ]
  }
 ],
 "metadata": {
  "kernelspec": {
   "display_name": "Python 3",
   "language": "python",
   "name": "python3"
  },
  "language_info": {
   "codemirror_mode": {
    "name": "ipython",
    "version": 3
   },
   "file_extension": ".py",
   "mimetype": "text/x-python",
   "name": "python",
   "nbconvert_exporter": "python",
   "pygments_lexer": "ipython3",
   "version": "3.7.4"
  }
 },
 "nbformat": 4,
 "nbformat_minor": 2
}
