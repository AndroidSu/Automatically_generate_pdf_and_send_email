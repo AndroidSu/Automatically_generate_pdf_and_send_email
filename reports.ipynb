{
 "cells": [
  {
   "cell_type": "code",
   "execution_count": null,
   "metadata": {},
   "outputs": [],
   "source": [
    "#!/usr/bin/env python3\n",
    "\n",
    "from reportlab.platypus import SimpleDocTemplate\n",
    "from reportlab.platypus import Paragraph, Spacer, Table, Image\n",
    "from reportlab.lib.styles import getSampleStyleSheet\n",
    "from reportlab.lib import colors\n",
    "\n",
    "\n",
    "def generate(filename, title, additional_info, table_data):\n",
    "  styles = getSampleStyleSheet()\n",
    "  report = SimpleDocTemplate(filename)\n",
    "  report_title = Paragraph(title, styles[\"h1\"])\n",
    "  report_info = Paragraph(additional_info, styles[\"BodyText\"])\n",
    "  table_style = [('GRID', (0,0), (-1,-1), 1, colors.black),\n",
    "                ('FONTNAME', (0,0), (-1,0), 'Helvetica-Bold'),\n",
    "                ('ALIGN', (0,0), (-1,-1), 'CENTER')]\n",
    "  report_table = Table(data=table_data, style=table_style, hAlign=\"LEFT\")\n",
    "  empty_line = Spacer(1,20)\n",
    "  report.build([report_title, empty_line, report_info, empty_line, report_table])"
   ]
  }
 ],
 "metadata": {
  "kernelspec": {
   "display_name": "Python 3",
   "language": "python",
   "name": "python3"
  },
  "language_info": {
   "codemirror_mode": {
    "name": "ipython",
    "version": 3
   },
   "file_extension": ".py",
   "mimetype": "text/x-python",
   "name": "python",
   "nbconvert_exporter": "python",
   "pygments_lexer": "ipython3",
   "version": "3.7.4"
  }
 },
 "nbformat": 4,
 "nbformat_minor": 2
}
